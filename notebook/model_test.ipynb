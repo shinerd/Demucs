{
 "cells": [
  {
   "cell_type": "code",
   "execution_count": null,
   "id": "8a1efd13",
   "metadata": {},
   "outputs": [
    {
     "name": "stdout",
     "output_type": "stream",
     "text": [
      "Input shape: torch.Size([1, 1, 16000])\n",
      "Output shape: torch.Size([1, 1, 16000])\n"
     ]
    }
   ],
   "source": [
    "import sys\n",
    "sys.path.append('../src')\n",
    "\n",
    "from model.htdemucs import HTDemucs\n",
    "import torch\n",
    "\n",
    "model = HTDemucs()\n",
    "dummy_input = torch.randn(1, 1, 16000)  # generate an input : (batch, channels, time)\n",
    "output = model(dummy_input)\n",
    "\n",
    "print(\"Input shape:\", dummy_input.shape)\n",
    "print(\"Output shape:\", output.shape)"
   ]
  }
 ],
 "metadata": {
  "kernelspec": {
   "display_name": "venv",
   "language": "python",
   "name": "python3"
  },
  "language_info": {
   "codemirror_mode": {
    "name": "ipython",
    "version": 3
   },
   "file_extension": ".py",
   "mimetype": "text/x-python",
   "name": "python",
   "nbconvert_exporter": "python",
   "pygments_lexer": "ipython3",
   "version": "3.9.6"
  }
 },
 "nbformat": 4,
 "nbformat_minor": 5
}
