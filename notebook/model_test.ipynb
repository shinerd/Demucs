{
 "cells": [
  {
   "cell_type": "code",
   "execution_count": 23,
   "id": "9154b182",
   "metadata": {},
   "outputs": [],
   "source": [
    "import sys\n",
    "sys.path.append('../src')\n",
    "\n",
    "import importlib\n",
    "\n",
    "import model.htdemucs\n",
    "importlib.reload(model.htdemucs)\n",
    "from model.htdemucs import HTDemucs\n",
    "\n",
    "import torch"
   ]
  },
  {
   "cell_type": "code",
   "execution_count": 24,
   "id": "8a1efd13",
   "metadata": {},
   "outputs": [
    {
     "name": "stdout",
     "output_type": "stream",
     "text": [
      "torch.Size([1, 1, 16000])\n",
      "torch.Size([1, 1, 3072])\n"
     ]
    }
   ],
   "source": [
    "from utils.config import load_config\n",
    "from model.htdemucs import HTDemucs\n",
    "\n",
    "config = load_config('../config/default.yaml')\n",
    "model = HTDemucs(config)\n",
    "\n",
    "dummy = torch.randn(1, 1, 16000)\n",
    "out = model(dummy)\n",
    "\n",
    "print(dummy.shape)\n",
    "print(out.shape)"
   ]
  }
 ],
 "metadata": {
  "kernelspec": {
   "display_name": "venv",
   "language": "python",
   "name": "python3"
  },
  "language_info": {
   "codemirror_mode": {
    "name": "ipython",
    "version": 3
   },
   "file_extension": ".py",
   "mimetype": "text/x-python",
   "name": "python",
   "nbconvert_exporter": "python",
   "pygments_lexer": "ipython3",
   "version": "3.9.6"
  }
 },
 "nbformat": 4,
 "nbformat_minor": 5
}
